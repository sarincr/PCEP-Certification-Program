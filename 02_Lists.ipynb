{
  "nbformat": 4,
  "nbformat_minor": 0,
  "metadata": {
    "kernelspec": {
      "display_name": "Python 3",
      "language": "python",
      "name": "python3"
    },
    "language_info": {
      "codemirror_mode": {
        "name": "ipython",
        "version": 3
      },
      "file_extension": ".py",
      "mimetype": "text/x-python",
      "name": "python",
      "nbconvert_exporter": "python",
      "pygments_lexer": "ipython3",
      "version": "3.6.8"
    },
    "colab": {
      "provenance": []
    }
  },
  "cells": [
    {
      "cell_type": "markdown",
      "metadata": {
        "id": "EVopA4gD1__6"
      },
      "source": [
        "<h1>Lists in Python</h1>"
      ]
    },
    {
      "cell_type": "markdown",
      "metadata": {
        "id": "okUfLDyi2AAE"
      },
      "source": [
        "<h3 id=\"index\">Indexing</h3>"
      ]
    },
    {
      "cell_type": "markdown",
      "metadata": {
        "id": "irAwl1oW2AAG"
      },
      "source": [
        "We are going to take a look at lists in Python. A list is a sequenced collection of different objects such as integers, strings, and other lists as well. The address of each element within a list is called an <b>index</b>. An index is used to access and refer to items within a list."
      ]
    },
    {
      "cell_type": "markdown",
      "metadata": {
        "id": "u4tu694J2AAH"
      },
      "source": [
        "<img src=\"https://s3-api.us-geo.objectstorage.softlayer.net/cf-courses-data/CognitiveClass/PY0101EN/Chapter%202/Images/ListsIndex.png\" width=\"1000\" />"
      ]
    },
    {
      "cell_type": "markdown",
      "metadata": {
        "id": "vo563YVy2AAI"
      },
      "source": [
        " To create a list, type the list within square brackets <b>[ ]</b>, with your content inside the parenthesis and separated by commas. Let’s try it!"
      ]
    },
    {
      "cell_type": "code",
      "metadata": {
        "id": "uWuoNoQ42AAJ",
        "colab": {
          "base_uri": "https://localhost:8080/"
        },
        "outputId": "0b587f80-ae6e-464b-a035-df69805b8598"
      },
      "source": [
        "# Create a list\n",
        "\n",
        "L = [\"Michael Jackson\", 10.1, 1982]\n",
        "L"
      ],
      "execution_count": 1,
      "outputs": [
        {
          "output_type": "execute_result",
          "data": {
            "text/plain": [
              "['Michael Jackson', 10.1, 1982]"
            ]
          },
          "metadata": {},
          "execution_count": 1
        }
      ]
    },
    {
      "cell_type": "markdown",
      "metadata": {
        "id": "r1fsG-SR2AAR"
      },
      "source": [
        "We can use negative and regular indexing with a list :"
      ]
    },
    {
      "cell_type": "markdown",
      "metadata": {
        "id": "nHyIhmFq2AAT"
      },
      "source": [
        "<img src=\"https://s3-api.us-geo.objectstorage.softlayer.net/cf-courses-data/CognitiveClass/PY0101EN/Chapter%202/Images/ListsNeg.png\" width=\"1000\" />"
      ]
    },
    {
      "cell_type": "code",
      "metadata": {
        "id": "0poDkXQE2AAU",
        "colab": {
          "base_uri": "https://localhost:8080/"
        },
        "outputId": "6c3eeee5-0662-4012-d24a-99fd6e0b03ea"
      },
      "source": [
        "# Print the elements on each index\n",
        "\n",
        "print('the same element using negative and positive indexing:\\n Postive:',L[0],\n",
        "'\\n Negative:' , L[-3]  )\n",
        "print('the same element using negative and positive indexing:\\n Postive:',L[1],\n",
        "'\\n Negative:' , L[-2]  )\n",
        "print('the same element using negative and positive indexing:\\n Postive:',L[2],\n",
        "'\\n Negative:' , L[-1]  )"
      ],
      "execution_count": 2,
      "outputs": [
        {
          "output_type": "stream",
          "name": "stdout",
          "text": [
            "the same element using negative and positive indexing:\n",
            " Postive: Michael Jackson \n",
            " Negative: Michael Jackson\n",
            "the same element using negative and positive indexing:\n",
            " Postive: 10.1 \n",
            " Negative: 10.1\n",
            "the same element using negative and positive indexing:\n",
            " Postive: 1982 \n",
            " Negative: 1982\n"
          ]
        }
      ]
    },
    {
      "cell_type": "markdown",
      "metadata": {
        "id": "x-xBslNH2AAZ"
      },
      "source": [
        "<h3 id=\"content\">List Content</h3>"
      ]
    },
    {
      "cell_type": "markdown",
      "metadata": {
        "id": "T4T38D3K2AAb"
      },
      "source": [
        "Lists can contain strings, floats, and integers. We can nest other lists, and we can also nest tuples and other data structures. The same indexing conventions apply for nesting:    \n"
      ]
    },
    {
      "cell_type": "code",
      "metadata": {
        "id": "ZNG2kj6_2AAc",
        "colab": {
          "base_uri": "https://localhost:8080/"
        },
        "outputId": "814f92e5-27d6-439e-c07d-3225042885da"
      },
      "source": [
        "# Sample List\n",
        "\n",
        "[\"Michael Jackson\", 10.1, 1982, [1, 2], (\"A\", 1)]"
      ],
      "execution_count": 3,
      "outputs": [
        {
          "output_type": "execute_result",
          "data": {
            "text/plain": [
              "['Michael Jackson', 10.1, 1982, [1, 2], ('A', 1)]"
            ]
          },
          "metadata": {},
          "execution_count": 3
        }
      ]
    },
    {
      "cell_type": "markdown",
      "metadata": {
        "id": "n6qCqbCz2AAh"
      },
      "source": [
        "<h3 id=\"op\">List Operations</h3>"
      ]
    },
    {
      "cell_type": "markdown",
      "metadata": {
        "id": "43aCKaxp2AAj"
      },
      "source": [
        " We can also perform slicing in lists. For example, if we want the last two elements, we use the following command:"
      ]
    },
    {
      "cell_type": "code",
      "metadata": {
        "id": "fkoifts72AAk",
        "colab": {
          "base_uri": "https://localhost:8080/"
        },
        "outputId": "b821a057-2d97-4bf9-c3fa-34a5dd7db534"
      },
      "source": [
        "# Sample List\n",
        "\n",
        "L = [\"Michael Jackson\", 10.1,1982,\"MJ\",1]\n",
        "L"
      ],
      "execution_count": 4,
      "outputs": [
        {
          "output_type": "execute_result",
          "data": {
            "text/plain": [
              "['Michael Jackson', 10.1, 1982, 'MJ', 1]"
            ]
          },
          "metadata": {},
          "execution_count": 4
        }
      ]
    },
    {
      "cell_type": "markdown",
      "metadata": {
        "id": "OLCYsAaB2AAs"
      },
      "source": [
        "<img src=\"https://s3-api.us-geo.objectstorage.softlayer.net/cf-courses-data/CognitiveClass/PY0101EN/Chapter%202/Images/ListsSlice.png\" width=\"1000\">"
      ]
    },
    {
      "cell_type": "code",
      "metadata": {
        "id": "mjjkSM5G2AAt",
        "colab": {
          "base_uri": "https://localhost:8080/"
        },
        "outputId": "5051dcf4-6a59-474d-ab83-ccc22eb7a626"
      },
      "source": [
        "# List slicing\n",
        "\n",
        "L[3:5]"
      ],
      "execution_count": 5,
      "outputs": [
        {
          "output_type": "execute_result",
          "data": {
            "text/plain": [
              "['MJ', 1]"
            ]
          },
          "metadata": {},
          "execution_count": 5
        }
      ]
    },
    {
      "cell_type": "markdown",
      "metadata": {
        "id": "OvpOPoBq2AA0"
      },
      "source": [
        "We can use the method <code>extend</code> to add new elements to the list:"
      ]
    },
    {
      "cell_type": "code",
      "metadata": {
        "id": "Dd9fPvoI2AA1",
        "colab": {
          "base_uri": "https://localhost:8080/"
        },
        "outputId": "761de75a-2405-4fad-e225-2f7287ee2e9b"
      },
      "source": [
        "# Use extend to add elements to list\n",
        "\n",
        "L = [ \"Michael Jackson\", 10.2]\n",
        "L.extend(['pop', 10])\n",
        "L"
      ],
      "execution_count": 6,
      "outputs": [
        {
          "output_type": "execute_result",
          "data": {
            "text/plain": [
              "['Michael Jackson', 10.2, 'pop', 10]"
            ]
          },
          "metadata": {},
          "execution_count": 6
        }
      ]
    },
    {
      "cell_type": "markdown",
      "metadata": {
        "id": "_YmnYpYh2AA7"
      },
      "source": [
        "Another similar method is <code>append</code>. If we apply <code>append</code> instead of <code>extend</code>, we add one element to the list:"
      ]
    },
    {
      "cell_type": "code",
      "metadata": {
        "id": "tU1wjgVV2AA8",
        "colab": {
          "base_uri": "https://localhost:8080/"
        },
        "outputId": "6cd1c42f-8bb3-4976-d8ea-4a2a21575e68"
      },
      "source": [
        "# Use append to add elements to list\n",
        "\n",
        "L = [ \"Michael Jackson\", 10.2]\n",
        "L.append(['pop', 10])\n",
        "L"
      ],
      "execution_count": 7,
      "outputs": [
        {
          "output_type": "execute_result",
          "data": {
            "text/plain": [
              "['Michael Jackson', 10.2, ['pop', 10]]"
            ]
          },
          "metadata": {},
          "execution_count": 7
        }
      ]
    },
    {
      "cell_type": "markdown",
      "metadata": {
        "id": "DZhP4f5g2ABE"
      },
      "source": [
        " Each time we apply a method, the list changes. If we apply <code>extend</code> we add two new elements to the list. The list <code>L</code> is then modified by adding two new elements:"
      ]
    },
    {
      "cell_type": "code",
      "metadata": {
        "id": "7sKM-tCz2ABI",
        "colab": {
          "base_uri": "https://localhost:8080/"
        },
        "outputId": "ba566a31-1c74-4484-d74c-279897b7fb30"
      },
      "source": [
        "# Use extend to add elements to list\n",
        "\n",
        "L = [ \"Michael Jackson\", 10.2]\n",
        "L.extend(['pop', 10])\n",
        "L"
      ],
      "execution_count": 8,
      "outputs": [
        {
          "output_type": "execute_result",
          "data": {
            "text/plain": [
              "['Michael Jackson', 10.2, 'pop', 10]"
            ]
          },
          "metadata": {},
          "execution_count": 8
        }
      ]
    },
    {
      "cell_type": "markdown",
      "metadata": {
        "id": "zyEaLUBb2ABN"
      },
      "source": [
        "If we append the list  <code>['a','b']</code> we have one new element consisting of a nested list:"
      ]
    },
    {
      "cell_type": "code",
      "metadata": {
        "id": "VwUieRbu2ABO",
        "colab": {
          "base_uri": "https://localhost:8080/"
        },
        "outputId": "a24d8e18-8d3f-4bab-d26d-bfce3395b810"
      },
      "source": [
        "# Use append to add elements to list\n",
        "\n",
        "L.append(['a','b'])\n",
        "L"
      ],
      "execution_count": 9,
      "outputs": [
        {
          "output_type": "execute_result",
          "data": {
            "text/plain": [
              "['Michael Jackson', 10.2, 'pop', 10, ['a', 'b']]"
            ]
          },
          "metadata": {},
          "execution_count": 9
        }
      ]
    },
    {
      "cell_type": "markdown",
      "metadata": {
        "id": "CL5I8Abc2ABS"
      },
      "source": [
        "As lists are mutable, we can change them. For example, we can change the first element as follows:"
      ]
    },
    {
      "cell_type": "code",
      "metadata": {
        "id": "u1hCSVnr2ABT",
        "colab": {
          "base_uri": "https://localhost:8080/"
        },
        "outputId": "37e09e25-51b1-480f-d88a-3ffabd020603"
      },
      "source": [
        "# Change the element based on the index\n",
        "\n",
        "A = [\"disco\", 10, 1.2]\n",
        "print('Before change:', A)\n",
        "A[0] = 'hard rock'\n",
        "print('After change:', A)"
      ],
      "execution_count": 10,
      "outputs": [
        {
          "output_type": "stream",
          "name": "stdout",
          "text": [
            "Before change: ['disco', 10, 1.2]\n",
            "After change: ['hard rock', 10, 1.2]\n"
          ]
        }
      ]
    },
    {
      "cell_type": "markdown",
      "metadata": {
        "id": "jN3NK8022ABY"
      },
      "source": [
        " We can also delete an element of a list using the <code>del</code> command:"
      ]
    },
    {
      "cell_type": "code",
      "metadata": {
        "id": "NSWNK2QO2ABY",
        "colab": {
          "base_uri": "https://localhost:8080/"
        },
        "outputId": "57993e75-68c7-4af9-91d7-afbe7016d2d4"
      },
      "source": [
        "# Delete the element based on the index\n",
        "\n",
        "print('Before change:', A)\n",
        "del(A[0])\n",
        "print('After change:', A)"
      ],
      "execution_count": 11,
      "outputs": [
        {
          "output_type": "stream",
          "name": "stdout",
          "text": [
            "Before change: ['hard rock', 10, 1.2]\n",
            "After change: [10, 1.2]\n"
          ]
        }
      ]
    },
    {
      "cell_type": "markdown",
      "metadata": {
        "id": "8MWB4Vv82ABd"
      },
      "source": [
        "We can convert a string to a list using <code>split</code>.  For example, the method <code>split</code> translates every group of characters separated by a space into an element in a list:"
      ]
    },
    {
      "cell_type": "code",
      "metadata": {
        "id": "fRkqQYrh2ABe",
        "colab": {
          "base_uri": "https://localhost:8080/"
        },
        "outputId": "7902278f-eceb-4bfe-97ac-5f9424c5e6f6"
      },
      "source": [
        "# Split the string, default is by space\n",
        "\n",
        "'hard rock'.split()"
      ],
      "execution_count": 12,
      "outputs": [
        {
          "output_type": "execute_result",
          "data": {
            "text/plain": [
              "['hard', 'rock']"
            ]
          },
          "metadata": {},
          "execution_count": 12
        }
      ]
    },
    {
      "cell_type": "markdown",
      "metadata": {
        "id": "T5tGBW142ABi"
      },
      "source": [
        "We can use the split function to separate strings on a specific character. We pass the character we would like to split on into the argument, which in this case is a comma.  The result is a list, and each element corresponds to a set of characters that have been separated by a comma:"
      ]
    },
    {
      "cell_type": "code",
      "metadata": {
        "id": "GJUIWYMA2ABj",
        "colab": {
          "base_uri": "https://localhost:8080/"
        },
        "outputId": "5e7f3c95-2825-4429-8f64-1ba44568b521"
      },
      "source": [
        "# Split the string by comma\n",
        "\n",
        "'A,B,C,D'.split(',')"
      ],
      "execution_count": 13,
      "outputs": [
        {
          "output_type": "execute_result",
          "data": {
            "text/plain": [
              "['A', 'B', 'C', 'D']"
            ]
          },
          "metadata": {},
          "execution_count": 13
        }
      ]
    },
    {
      "cell_type": "markdown",
      "metadata": {
        "id": "Q5AzWiOH2ABo"
      },
      "source": [
        "<h3 id=\"co\">Copy and Clone List</h3>"
      ]
    },
    {
      "cell_type": "markdown",
      "metadata": {
        "id": "WygcLlS32ABp"
      },
      "source": [
        "When we set one variable <b>B</b> equal to <b>A</b>; both <b>A</b> and <b>B</b> are referencing the same list in memory:"
      ]
    },
    {
      "cell_type": "code",
      "metadata": {
        "id": "yt-71zAn2ABq",
        "colab": {
          "base_uri": "https://localhost:8080/"
        },
        "outputId": "c6bfccae-3963-42e7-b986-143377fd03c4"
      },
      "source": [
        "# Copy (copy by reference) the list A\n",
        "\n",
        "A = [\"hard rock\", 10, 1.2]\n",
        "B = A\n",
        "print('A:', A)\n",
        "print('B:', B)"
      ],
      "execution_count": 14,
      "outputs": [
        {
          "output_type": "stream",
          "name": "stdout",
          "text": [
            "A: ['hard rock', 10, 1.2]\n",
            "B: ['hard rock', 10, 1.2]\n"
          ]
        }
      ]
    },
    {
      "cell_type": "markdown",
      "metadata": {
        "id": "e_Zy0Tmv2ABu"
      },
      "source": [
        "<img src=\"https://s3-api.us-geo.objectstorage.softlayer.net/cf-courses-data/CognitiveClass/PY0101EN/Chapter%202/Images/ListsRef.png\" width=\"1000\" align=\"center\">"
      ]
    },
    {
      "cell_type": "markdown",
      "metadata": {
        "id": "PGYBw9q32ABw"
      },
      "source": [
        "Initially, the value of the first element in <b>B</b> is set as hard rock. If we change the first element in <b>A</b> to <b>banana</b>, we get an unexpected side effect.  As <b>A</b> and <b>B</b> are referencing the same list, if we change list <b>A</b>, then list <b>B</b> also changes. If we check the first element of <b>B</b> we get banana instead of hard rock:"
      ]
    },
    {
      "cell_type": "code",
      "metadata": {
        "id": "tZPg3Pt92ABw",
        "colab": {
          "base_uri": "https://localhost:8080/"
        },
        "outputId": "a4d423b7-812f-4060-ff41-be6bc45f0a28"
      },
      "source": [
        "# Examine the copy by reference\n",
        "\n",
        "print('B[0]:', B[0])\n",
        "A[0] = \"banana\"\n",
        "print('B[0]:', B[0])"
      ],
      "execution_count": 15,
      "outputs": [
        {
          "output_type": "stream",
          "name": "stdout",
          "text": [
            "B[0]: hard rock\n",
            "B[0]: banana\n"
          ]
        }
      ]
    },
    {
      "cell_type": "markdown",
      "metadata": {
        "id": "dqSLQfv22AB1"
      },
      "source": [
        "This is demonstrated in the following figure:"
      ]
    },
    {
      "cell_type": "markdown",
      "metadata": {
        "id": "1mYh-UR_2AB3"
      },
      "source": [
        "<img src = \"https://s3-api.us-geo.objectstorage.softlayer.net/cf-courses-data/CognitiveClass/PY0101EN/Chapter%202/Images/ListsRefGif.gif\" width=\"1000\" />"
      ]
    },
    {
      "cell_type": "markdown",
      "metadata": {
        "id": "To8UaMW22AB3"
      },
      "source": [
        "You can clone list  **A** by using  the following syntax:"
      ]
    },
    {
      "cell_type": "code",
      "metadata": {
        "id": "0OUNDPfB2AB4",
        "colab": {
          "base_uri": "https://localhost:8080/"
        },
        "outputId": "b249cf33-e05d-4597-9b94-b58d5ead370a"
      },
      "source": [
        "# Clone (clone by value) the list A\n",
        "\n",
        "B = A[:]\n",
        "B"
      ],
      "execution_count": 16,
      "outputs": [
        {
          "output_type": "execute_result",
          "data": {
            "text/plain": [
              "['banana', 10, 1.2]"
            ]
          },
          "metadata": {},
          "execution_count": 16
        }
      ]
    },
    {
      "cell_type": "markdown",
      "metadata": {
        "id": "67Mg2AaO2AB9"
      },
      "source": [
        " Variable **B** references a new copy or clone of the original list; this is demonstrated in the following figure:"
      ]
    },
    {
      "cell_type": "markdown",
      "metadata": {
        "id": "HfE2uqk42AB-"
      },
      "source": [
        "<img src=\"https://s3-api.us-geo.objectstorage.softlayer.net/cf-courses-data/CognitiveClass/PY0101EN/Chapter%202/Images/ListsVal.gif\" width=\"1000\" />"
      ]
    },
    {
      "cell_type": "markdown",
      "metadata": {
        "id": "8s2uav0R2AB-"
      },
      "source": [
        "Now if you change <b>A</b>, <b>B</b> will not change:"
      ]
    },
    {
      "cell_type": "code",
      "metadata": {
        "id": "znn-3gHv2AB_",
        "colab": {
          "base_uri": "https://localhost:8080/"
        },
        "outputId": "bb6d16fa-ceed-46e7-faa1-53f457a68eb6"
      },
      "source": [
        "print('B[0]:', B[0])\n",
        "A[0] = \"hard rock\"\n",
        "print('B[0]:', B[0])"
      ],
      "execution_count": 17,
      "outputs": [
        {
          "output_type": "stream",
          "name": "stdout",
          "text": [
            "B[0]: banana\n",
            "B[0]: banana\n"
          ]
        }
      ]
    }
  ]
}